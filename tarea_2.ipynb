{
 "cells": [
  {
   "cell_type": "markdown",
   "metadata": {},
   "source": [
    "# Tarea 02: Graphviz"
   ]
  },
  {
   "cell_type": "markdown",
   "metadata": {},
   "source": [
    "Graphviz es un visualizador de Python que nos permite mostrar los árboles de decisión de una manera muy estilizada. En https://github.com/scidatmath2020/ML_Py_23/blob/main/instalar_graphviz.ipynb dejamos los pasos para poder instalarlo."
   ]
  },
  {
   "cell_type": "code",
   "execution_count": 2,
   "metadata": {},
   "outputs": [],
   "source": [
    "# Se realizaron los pasos descrito en el link. A continuación se corre \n",
    "# el siguiente código para probar que graphviz se ha instalado correctamente\n",
    "import pandas as pd\n",
    "import os\n",
    "import graphviz\n",
    "from sklearn import tree\n",
    "\n",
    "mi_data = pd.DataFrame({\"Vivienda\":[1,0,0,1,0,0,1,0,0,0],\n",
    "                        \"Estado_civil\":[1,0,1,0,1,0,1,1,0,1],\n",
    "                        \"Salario\":[125,100,70,120,95,60,220,85,75,90],\n",
    "                        \"Impago\":[0,0,0,0,1,0,0,1,0,1]})\n",
    "\n",
    "arbol = tree.DecisionTreeClassifier() \n",
    "\n",
    "arbol.fit(mi_data.drop(\"Impago\", axis=1), mi_data.Impago)\n",
    "\n",
    "def dibujar_arbol(arbol):\n",
    "    dot_data = tree.export_graphviz(arbol, out_file=None,\n",
    "                                    feature_names=mi_data.drop(\"Impago\",axis=1).columns,\n",
    "                                    filled=True,\n",
    "                                    impurity=False,\n",
    "                                    rounded=True,\n",
    "                                    special_characters=True)\n",
    "    graph = graphviz.Source(dot_data)\n",
    "    graph.format = \"png\"\n",
    "    graph.render(\"arbol\",view=True)\n",
    "    \n",
    "os.environ[\"PATH\"] += os.pathsep + \"C:\\\\Program Files\\\\Graphviz\\\\bin\"\n",
    "dibujar_arbol(arbol)\n",
    "\n",
    "# Lo anterior abre y crea una imagen 'arbol.png'. A continuación lo adjuntamos al notebook usando\n",
    "# <img src='arbol.png'> en una celda Markdown"
   ]
  },
  {
   "cell_type": "markdown",
   "metadata": {},
   "source": [
    "<img src='arbol.png'>"
   ]
  }
 ],
 "metadata": {
  "kernelspec": {
   "display_name": "Python 3",
   "language": "python",
   "name": "python3"
  },
  "language_info": {
   "codemirror_mode": {
    "name": "ipython",
    "version": 3
   },
   "file_extension": ".py",
   "mimetype": "text/x-python",
   "name": "python",
   "nbconvert_exporter": "python",
   "pygments_lexer": "ipython3",
   "version": "3.11.4"
  },
  "orig_nbformat": 4
 },
 "nbformat": 4,
 "nbformat_minor": 2
}

{
 "cells": [
  {
   "cell_type": "markdown",
   "metadata": {},
   "source": [
    "# Tarea 05: Optimización de hiperparámetros"
   ]
  },
  {
   "cell_type": "markdown",
   "metadata": {},
   "source": [
    "En la carpeta de data https://github.com/scidatmath2020/ML_Py_23/tree/main/data   encontrarás la tabla datos_películas.csv. Aplica todos los modelos de clasificación muticlase que hemos visto, con score F1, para encontrar el mejor clasificador.\n",
    "\n",
    "¿Cuál es el mejor modelo para clasificar con esta tabla?"
   ]
  },
  {
   "cell_type": "code",
   "execution_count": 1,
   "metadata": {},
   "outputs": [],
   "source": [
    "# Importamos las librerías estandar para manipular nuestro dataframe\n",
    "import os\n",
    "import pandas as pd\n",
    "import numpy as np\n",
    "from siuba import *\n",
    "from siuba.dply.vector import * \n",
    "from plotnine import *"
   ]
  },
  {
   "cell_type": "code",
   "execution_count": 2,
   "metadata": {},
   "outputs": [
    {
     "data": {
      "text/html": [
       "<div>\n",
       "<style scoped>\n",
       "    .dataframe tbody tr th:only-of-type {\n",
       "        vertical-align: middle;\n",
       "    }\n",
       "\n",
       "    .dataframe tbody tr th {\n",
       "        vertical-align: top;\n",
       "    }\n",
       "\n",
       "    .dataframe thead th {\n",
       "        text-align: right;\n",
       "    }\n",
       "</style>\n",
       "<table border=\"1\" class=\"dataframe\">\n",
       "  <thead>\n",
       "    <tr style=\"text-align: right;\">\n",
       "      <th></th>\n",
       "      <th>pelicula</th>\n",
       "      <th>año</th>\n",
       "      <th>ratings</th>\n",
       "      <th>genero</th>\n",
       "      <th>ventas</th>\n",
       "      <th>presupuesto</th>\n",
       "      <th>secuela</th>\n",
       "      <th>vistas_youtube</th>\n",
       "      <th>positivos_youtube</th>\n",
       "      <th>negativos_youtube</th>\n",
       "      <th>comentarios</th>\n",
       "      <th>seguidores_agregados</th>\n",
       "    </tr>\n",
       "  </thead>\n",
       "  <tbody>\n",
       "    <tr>\n",
       "      <th>0</th>\n",
       "      <td>13 Sins</td>\n",
       "      <td>2014</td>\n",
       "      <td>6.3</td>\n",
       "      <td>8</td>\n",
       "      <td>9130</td>\n",
       "      <td>4000000.0</td>\n",
       "      <td>1</td>\n",
       "      <td>3280543</td>\n",
       "      <td>4632</td>\n",
       "      <td>425</td>\n",
       "      <td>636</td>\n",
       "      <td>1120000.0</td>\n",
       "    </tr>\n",
       "    <tr>\n",
       "      <th>1</th>\n",
       "      <td>22 Jump Street</td>\n",
       "      <td>2014</td>\n",
       "      <td>7.1</td>\n",
       "      <td>1</td>\n",
       "      <td>192000000</td>\n",
       "      <td>50000000.0</td>\n",
       "      <td>2</td>\n",
       "      <td>583289</td>\n",
       "      <td>3465</td>\n",
       "      <td>61</td>\n",
       "      <td>186</td>\n",
       "      <td>12350000.0</td>\n",
       "    </tr>\n",
       "    <tr>\n",
       "      <th>2</th>\n",
       "      <td>3 Days to Kill</td>\n",
       "      <td>2014</td>\n",
       "      <td>6.2</td>\n",
       "      <td>1</td>\n",
       "      <td>30700000</td>\n",
       "      <td>28000000.0</td>\n",
       "      <td>1</td>\n",
       "      <td>304861</td>\n",
       "      <td>328</td>\n",
       "      <td>34</td>\n",
       "      <td>47</td>\n",
       "      <td>483000.0</td>\n",
       "    </tr>\n",
       "    <tr>\n",
       "      <th>3</th>\n",
       "      <td>300: Rise of an Empire</td>\n",
       "      <td>2014</td>\n",
       "      <td>6.3</td>\n",
       "      <td>1</td>\n",
       "      <td>106000000</td>\n",
       "      <td>110000000.0</td>\n",
       "      <td>2</td>\n",
       "      <td>452917</td>\n",
       "      <td>2429</td>\n",
       "      <td>132</td>\n",
       "      <td>590</td>\n",
       "      <td>568000.0</td>\n",
       "    </tr>\n",
       "    <tr>\n",
       "      <th>4</th>\n",
       "      <td>A Haunted House 2</td>\n",
       "      <td>2014</td>\n",
       "      <td>4.7</td>\n",
       "      <td>8</td>\n",
       "      <td>17300000</td>\n",
       "      <td>3500000.0</td>\n",
       "      <td>2</td>\n",
       "      <td>3145573</td>\n",
       "      <td>12163</td>\n",
       "      <td>610</td>\n",
       "      <td>1082</td>\n",
       "      <td>1923800.0</td>\n",
       "    </tr>\n",
       "  </tbody>\n",
       "</table>\n",
       "</div>"
      ],
      "text/plain": [
       "                 pelicula   año  ratings  genero     ventas  presupuesto  \\\n",
       "0                 13 Sins  2014      6.3       8       9130    4000000.0   \n",
       "1          22 Jump Street  2014      7.1       1  192000000   50000000.0   \n",
       "2          3 Days to Kill  2014      6.2       1   30700000   28000000.0   \n",
       "3  300: Rise of an Empire  2014      6.3       1  106000000  110000000.0   \n",
       "4       A Haunted House 2  2014      4.7       8   17300000    3500000.0   \n",
       "\n",
       "   secuela  vistas_youtube  positivos_youtube  negativos_youtube  comentarios  \\\n",
       "0        1         3280543               4632                425          636   \n",
       "1        2          583289               3465                 61          186   \n",
       "2        1          304861                328                 34           47   \n",
       "3        2          452917               2429                132          590   \n",
       "4        2         3145573              12163                610         1082   \n",
       "\n",
       "   seguidores_agregados  \n",
       "0             1120000.0  \n",
       "1            12350000.0  \n",
       "2              483000.0  \n",
       "3              568000.0  \n",
       "4             1923800.0  "
      ]
     },
     "execution_count": 2,
     "metadata": {},
     "output_type": "execute_result"
    }
   ],
   "source": [
    "######### Importar datos ##########\n",
    "\n",
    "# Importamos los datos sobre las películas desde Github\n",
    "mi_data = pd.read_csv('https://raw.githubusercontent.com/scidatmath2020/ML_Py_23/main/data/datos_peliculas.csv')\n",
    "# Visualizamos las primeras 5 filas\n",
    "mi_data.head()"
   ]
  },
  {
   "cell_type": "code",
   "execution_count": 3,
   "metadata": {},
   "outputs": [
    {
     "data": {
      "text/plain": [
       "array([ 8,  1,  3, 10, 15, 12,  9,  2,  7,  6,  4], dtype=int64)"
      ]
     },
     "execution_count": 3,
     "metadata": {},
     "output_type": "execute_result"
    }
   ],
   "source": [
    "# Nuestra columna objetivo es 'genero', el cual nos describe el genero de la película. Al entrenar los\n",
    "# modelos queremos predecir de qué genero es una película basado en las columnas numéricas.\n",
    "# Checamos qué clases tenemos en 'genero'\n",
    "mi_data.genero.unique()"
   ]
  },
  {
   "cell_type": "code",
   "execution_count": null,
   "metadata": {},
   "outputs": [],
   "source": []
  }
 ],
 "metadata": {
  "kernelspec": {
   "display_name": "Python 3",
   "language": "python",
   "name": "python3"
  },
  "language_info": {
   "codemirror_mode": {
    "name": "ipython",
    "version": 3
   },
   "file_extension": ".py",
   "mimetype": "text/x-python",
   "name": "python",
   "nbconvert_exporter": "python",
   "pygments_lexer": "ipython3",
   "version": "3.11.4"
  },
  "orig_nbformat": 4
 },
 "nbformat": 4,
 "nbformat_minor": 2
}
